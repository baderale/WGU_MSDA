{
 "cells": [
  {
   "attachments": {},
   "cell_type": "markdown",
   "metadata": {},
   "source": [
    "<h1><center>Performance Assessment:Data Cleaning (NUM3)</center></h1>\n",
    "<h3><center> by Bader Ale <center><h3>"
   ]
  },
  {
   "attachments": {},
   "cell_type": "markdown",
   "metadata": {},
   "source": [
    "For this Performance Assessment, I will be using the medical data contained in the D206 Definitions and Datafile directory."
   ]
  },
  {
   "attachments": {},
   "cell_type": "markdown",
   "metadata": {},
   "source": [
    "# Part 1: Research Question and Variables\n",
    "The research question for this analysis is:\n",
    "**Is there a relation between the amount of times the primary physician visited the patient during their hospital stay and the occurence of readmission within 30 days following the patient's discharge from the facility?**"
   ]
  },
  {
   "attachments": {},
   "cell_type": "markdown",
   "metadata": {},
   "source": [
    "The first thing we have to do is import the original CSV file that contains our data. To do this, we must first import the necessary packages."
   ]
  },
  {
   "cell_type": "code",
   "execution_count": 2,
   "metadata": {},
   "outputs": [],
   "source": [
    "import pandas as pd"
   ]
  },
  {
   "cell_type": "code",
   "execution_count": 3,
   "metadata": {},
   "outputs": [],
   "source": [
    "# Reading in the original CSV file\n",
    "df = pd.read_csv(r'C:\\Users\\Bader Ale\\Documents\\WGU MSDA\\Data Cleaning - D206\\Performance Assessment\\Medical Data and Dictionary Files\\medical_raw_data.csv')"
   ]
  },
  {
   "attachments": {},
   "cell_type": "markdown",
   "metadata": {},
   "source": [
    "After importing our CSV file, we will see the first 5 records of our dataframe and see the overall shape/size."
   ]
  },
  {
   "cell_type": "code",
   "execution_count": 4,
   "metadata": {},
   "outputs": [
    {
     "data": {
      "text/html": [
       "<div>\n",
       "<style scoped>\n",
       "    .dataframe tbody tr th:only-of-type {\n",
       "        vertical-align: middle;\n",
       "    }\n",
       "\n",
       "    .dataframe tbody tr th {\n",
       "        vertical-align: top;\n",
       "    }\n",
       "\n",
       "    .dataframe thead th {\n",
       "        text-align: right;\n",
       "    }\n",
       "</style>\n",
       "<table border=\"1\" class=\"dataframe\">\n",
       "  <thead>\n",
       "    <tr style=\"text-align: right;\">\n",
       "      <th></th>\n",
       "      <th>Unnamed: 0</th>\n",
       "      <th>CaseOrder</th>\n",
       "      <th>Customer_id</th>\n",
       "      <th>Interaction</th>\n",
       "      <th>UID</th>\n",
       "      <th>City</th>\n",
       "      <th>State</th>\n",
       "      <th>County</th>\n",
       "      <th>Zip</th>\n",
       "      <th>Lat</th>\n",
       "      <th>...</th>\n",
       "      <th>TotalCharge</th>\n",
       "      <th>Additional_charges</th>\n",
       "      <th>Item1</th>\n",
       "      <th>Item2</th>\n",
       "      <th>Item3</th>\n",
       "      <th>Item4</th>\n",
       "      <th>Item5</th>\n",
       "      <th>Item6</th>\n",
       "      <th>Item7</th>\n",
       "      <th>Item8</th>\n",
       "    </tr>\n",
       "  </thead>\n",
       "  <tbody>\n",
       "    <tr>\n",
       "      <th>0</th>\n",
       "      <td>1</td>\n",
       "      <td>1</td>\n",
       "      <td>C412403</td>\n",
       "      <td>8cd49b13-f45a-4b47-a2bd-173ffa932c2f</td>\n",
       "      <td>3a83ddb66e2ae73798bdf1d705dc0932</td>\n",
       "      <td>Eva</td>\n",
       "      <td>AL</td>\n",
       "      <td>Morgan</td>\n",
       "      <td>35621</td>\n",
       "      <td>34.34960</td>\n",
       "      <td>...</td>\n",
       "      <td>3191.048774</td>\n",
       "      <td>17939.403420</td>\n",
       "      <td>3</td>\n",
       "      <td>3</td>\n",
       "      <td>2</td>\n",
       "      <td>2</td>\n",
       "      <td>4</td>\n",
       "      <td>3</td>\n",
       "      <td>3</td>\n",
       "      <td>4</td>\n",
       "    </tr>\n",
       "    <tr>\n",
       "      <th>1</th>\n",
       "      <td>2</td>\n",
       "      <td>2</td>\n",
       "      <td>Z919181</td>\n",
       "      <td>d2450b70-0337-4406-bdbb-bc1037f1734c</td>\n",
       "      <td>176354c5eef714957d486009feabf195</td>\n",
       "      <td>Marianna</td>\n",
       "      <td>FL</td>\n",
       "      <td>Jackson</td>\n",
       "      <td>32446</td>\n",
       "      <td>30.84513</td>\n",
       "      <td>...</td>\n",
       "      <td>4214.905346</td>\n",
       "      <td>17612.998120</td>\n",
       "      <td>3</td>\n",
       "      <td>4</td>\n",
       "      <td>3</td>\n",
       "      <td>4</td>\n",
       "      <td>4</td>\n",
       "      <td>4</td>\n",
       "      <td>3</td>\n",
       "      <td>3</td>\n",
       "    </tr>\n",
       "    <tr>\n",
       "      <th>2</th>\n",
       "      <td>3</td>\n",
       "      <td>3</td>\n",
       "      <td>F995323</td>\n",
       "      <td>a2057123-abf5-4a2c-abad-8ffe33512562</td>\n",
       "      <td>e19a0fa00aeda885b8a436757e889bc9</td>\n",
       "      <td>Sioux Falls</td>\n",
       "      <td>SD</td>\n",
       "      <td>Minnehaha</td>\n",
       "      <td>57110</td>\n",
       "      <td>43.54321</td>\n",
       "      <td>...</td>\n",
       "      <td>2177.586768</td>\n",
       "      <td>17505.192460</td>\n",
       "      <td>2</td>\n",
       "      <td>4</td>\n",
       "      <td>4</td>\n",
       "      <td>4</td>\n",
       "      <td>3</td>\n",
       "      <td>4</td>\n",
       "      <td>3</td>\n",
       "      <td>3</td>\n",
       "    </tr>\n",
       "    <tr>\n",
       "      <th>3</th>\n",
       "      <td>4</td>\n",
       "      <td>4</td>\n",
       "      <td>A879973</td>\n",
       "      <td>1dec528d-eb34-4079-adce-0d7a40e82205</td>\n",
       "      <td>cd17d7b6d152cb6f23957346d11c3f07</td>\n",
       "      <td>New Richland</td>\n",
       "      <td>MN</td>\n",
       "      <td>Waseca</td>\n",
       "      <td>56072</td>\n",
       "      <td>43.89744</td>\n",
       "      <td>...</td>\n",
       "      <td>2465.118965</td>\n",
       "      <td>12993.437350</td>\n",
       "      <td>3</td>\n",
       "      <td>5</td>\n",
       "      <td>5</td>\n",
       "      <td>3</td>\n",
       "      <td>4</td>\n",
       "      <td>5</td>\n",
       "      <td>5</td>\n",
       "      <td>5</td>\n",
       "    </tr>\n",
       "    <tr>\n",
       "      <th>4</th>\n",
       "      <td>5</td>\n",
       "      <td>5</td>\n",
       "      <td>C544523</td>\n",
       "      <td>5885f56b-d6da-43a3-8760-83583af94266</td>\n",
       "      <td>d2f0425877b10ed6bb381f3e2579424a</td>\n",
       "      <td>West Point</td>\n",
       "      <td>VA</td>\n",
       "      <td>King William</td>\n",
       "      <td>23181</td>\n",
       "      <td>37.59894</td>\n",
       "      <td>...</td>\n",
       "      <td>1885.655137</td>\n",
       "      <td>3716.525786</td>\n",
       "      <td>2</td>\n",
       "      <td>1</td>\n",
       "      <td>3</td>\n",
       "      <td>3</td>\n",
       "      <td>5</td>\n",
       "      <td>3</td>\n",
       "      <td>4</td>\n",
       "      <td>3</td>\n",
       "    </tr>\n",
       "  </tbody>\n",
       "</table>\n",
       "<p>5 rows × 53 columns</p>\n",
       "</div>"
      ],
      "text/plain": [
       "   Unnamed: 0  CaseOrder Customer_id                           Interaction  \\\n",
       "0           1          1     C412403  8cd49b13-f45a-4b47-a2bd-173ffa932c2f   \n",
       "1           2          2     Z919181  d2450b70-0337-4406-bdbb-bc1037f1734c   \n",
       "2           3          3     F995323  a2057123-abf5-4a2c-abad-8ffe33512562   \n",
       "3           4          4     A879973  1dec528d-eb34-4079-adce-0d7a40e82205   \n",
       "4           5          5     C544523  5885f56b-d6da-43a3-8760-83583af94266   \n",
       "\n",
       "                                UID          City State        County    Zip  \\\n",
       "0  3a83ddb66e2ae73798bdf1d705dc0932           Eva    AL        Morgan  35621   \n",
       "1  176354c5eef714957d486009feabf195      Marianna    FL       Jackson  32446   \n",
       "2  e19a0fa00aeda885b8a436757e889bc9   Sioux Falls    SD     Minnehaha  57110   \n",
       "3  cd17d7b6d152cb6f23957346d11c3f07  New Richland    MN        Waseca  56072   \n",
       "4  d2f0425877b10ed6bb381f3e2579424a    West Point    VA  King William  23181   \n",
       "\n",
       "        Lat  ...  TotalCharge  Additional_charges Item1 Item2 Item3  Item4  \\\n",
       "0  34.34960  ...  3191.048774        17939.403420     3     3     2      2   \n",
       "1  30.84513  ...  4214.905346        17612.998120     3     4     3      4   \n",
       "2  43.54321  ...  2177.586768        17505.192460     2     4     4      4   \n",
       "3  43.89744  ...  2465.118965        12993.437350     3     5     5      3   \n",
       "4  37.59894  ...  1885.655137         3716.525786     2     1     3      3   \n",
       "\n",
       "   Item5 Item6 Item7  Item8  \n",
       "0      4     3     3      4  \n",
       "1      4     4     3      3  \n",
       "2      3     4     3      3  \n",
       "3      4     5     5      5  \n",
       "4      5     3     4      3  \n",
       "\n",
       "[5 rows x 53 columns]"
      ]
     },
     "execution_count": 4,
     "metadata": {},
     "output_type": "execute_result"
    }
   ],
   "source": [
    "# Returning first 5 records of dataframe\n",
    "df.head(5)"
   ]
  },
  {
   "cell_type": "code",
   "execution_count": 5,
   "metadata": {},
   "outputs": [
    {
     "data": {
      "text/plain": [
       "(10000, 53)"
      ]
     },
     "execution_count": 5,
     "metadata": {},
     "output_type": "execute_result"
    }
   ],
   "source": [
    "# Returning number of (rows, columns)\n",
    "df.shape"
   ]
  },
  {
   "attachments": {},
   "cell_type": "markdown",
   "metadata": {},
   "source": [
    "Our dataframe has a total of 10,000 rows and 53 columns. Next, we will return a list of all variables and their dataypes."
   ]
  },
  {
   "cell_type": "code",
   "execution_count": 6,
   "metadata": {},
   "outputs": [
    {
     "name": "stdout",
     "output_type": "stream",
     "text": [
      "<class 'pandas.core.frame.DataFrame'>\n",
      "RangeIndex: 10000 entries, 0 to 9999\n",
      "Data columns (total 53 columns):\n",
      " #   Column              Non-Null Count  Dtype  \n",
      "---  ------              --------------  -----  \n",
      " 0   Unnamed: 0          10000 non-null  int64  \n",
      " 1   CaseOrder           10000 non-null  int64  \n",
      " 2   Customer_id         10000 non-null  object \n",
      " 3   Interaction         10000 non-null  object \n",
      " 4   UID                 10000 non-null  object \n",
      " 5   City                10000 non-null  object \n",
      " 6   State               10000 non-null  object \n",
      " 7   County              10000 non-null  object \n",
      " 8   Zip                 10000 non-null  int64  \n",
      " 9   Lat                 10000 non-null  float64\n",
      " 10  Lng                 10000 non-null  float64\n",
      " 11  Population          10000 non-null  int64  \n",
      " 12  Area                10000 non-null  object \n",
      " 13  Timezone            10000 non-null  object \n",
      " 14  Job                 10000 non-null  object \n",
      " 15  Children            7412 non-null   float64\n",
      " 16  Age                 7586 non-null   float64\n",
      " 17  Education           10000 non-null  object \n",
      " 18  Employment          10000 non-null  object \n",
      " 19  Income              7536 non-null   float64\n",
      " 20  Marital             10000 non-null  object \n",
      " 21  Gender              10000 non-null  object \n",
      " 22  ReAdmis             10000 non-null  object \n",
      " 23  VitD_levels         10000 non-null  float64\n",
      " 24  Doc_visits          10000 non-null  int64  \n",
      " 25  Full_meals_eaten    10000 non-null  int64  \n",
      " 26  VitD_supp           10000 non-null  int64  \n",
      " 27  Soft_drink          7533 non-null   object \n",
      " 28  Initial_admin       10000 non-null  object \n",
      " 29  HighBlood           10000 non-null  object \n",
      " 30  Stroke              10000 non-null  object \n",
      " 31  Complication_risk   10000 non-null  object \n",
      " 32  Overweight          9018 non-null   float64\n",
      " 33  Arthritis           10000 non-null  object \n",
      " 34  Diabetes            10000 non-null  object \n",
      " 35  Hyperlipidemia      10000 non-null  object \n",
      " 36  BackPain            10000 non-null  object \n",
      " 37  Anxiety             9016 non-null   float64\n",
      " 38  Allergic_rhinitis   10000 non-null  object \n",
      " 39  Reflux_esophagitis  10000 non-null  object \n",
      " 40  Asthma              10000 non-null  object \n",
      " 41  Services            10000 non-null  object \n",
      " 42  Initial_days        8944 non-null   float64\n",
      " 43  TotalCharge         10000 non-null  float64\n",
      " 44  Additional_charges  10000 non-null  float64\n",
      " 45  Item1               10000 non-null  int64  \n",
      " 46  Item2               10000 non-null  int64  \n",
      " 47  Item3               10000 non-null  int64  \n",
      " 48  Item4               10000 non-null  int64  \n",
      " 49  Item5               10000 non-null  int64  \n",
      " 50  Item6               10000 non-null  int64  \n",
      " 51  Item7               10000 non-null  int64  \n",
      " 52  Item8               10000 non-null  int64  \n",
      "dtypes: float64(11), int64(15), object(27)\n",
      "memory usage: 4.0+ MB\n"
     ]
    }
   ],
   "source": [
    "# Return variables, datatypes and non-null status of each.\n",
    "df.info()"
   ]
  },
  {
   "attachments": {},
   "cell_type": "markdown",
   "metadata": {},
   "source": [
    "# Part 2: Detection and Treatment of Duplicates\n",
    "Our first task is to detect and treat any duplicated values in our entire dataset."
   ]
  },
  {
   "cell_type": "code",
   "execution_count": 7,
   "metadata": {},
   "outputs": [
    {
     "data": {
      "text/plain": [
       "False    10000\n",
       "dtype: int64"
      ]
     },
     "execution_count": 7,
     "metadata": {},
     "output_type": "execute_result"
    }
   ],
   "source": [
    "# Returning a total count of duplicated values\n",
    "df.duplicated().value_counts()"
   ]
  },
  {
   "attachments": {},
   "cell_type": "markdown",
   "metadata": {},
   "source": [
    "Here we can see there are **no** duplicated values, represented by the \"False 10000\" output (which is also the total rows shown in the .shape fucntion). We can now move to the next section of data cleaning, detection and treatment of missing values."
   ]
  },
  {
   "attachments": {},
   "cell_type": "markdown",
   "metadata": {},
   "source": [
    "# Part 3: Detection and Treatment of Missing Values\n",
    "In this section, we will see if there are any missing values for all variables in the dataset."
   ]
  },
  {
   "cell_type": "code",
   "execution_count": 8,
   "metadata": {},
   "outputs": [
    {
     "data": {
      "text/plain": [
       "Unnamed: 0               0\n",
       "CaseOrder                0\n",
       "Customer_id              0\n",
       "Interaction              0\n",
       "UID                      0\n",
       "City                     0\n",
       "State                    0\n",
       "County                   0\n",
       "Zip                      0\n",
       "Lat                      0\n",
       "Lng                      0\n",
       "Population               0\n",
       "Area                     0\n",
       "Timezone                 0\n",
       "Job                      0\n",
       "Children              2588\n",
       "Age                   2414\n",
       "Education                0\n",
       "Employment               0\n",
       "Income                2464\n",
       "Marital                  0\n",
       "Gender                   0\n",
       "ReAdmis                  0\n",
       "VitD_levels              0\n",
       "Doc_visits               0\n",
       "Full_meals_eaten         0\n",
       "VitD_supp                0\n",
       "Soft_drink            2467\n",
       "Initial_admin            0\n",
       "HighBlood                0\n",
       "Stroke                   0\n",
       "Complication_risk        0\n",
       "Overweight             982\n",
       "Arthritis                0\n",
       "Diabetes                 0\n",
       "Hyperlipidemia           0\n",
       "BackPain                 0\n",
       "Anxiety                984\n",
       "Allergic_rhinitis        0\n",
       "Reflux_esophagitis       0\n",
       "Asthma                   0\n",
       "Services                 0\n",
       "Initial_days          1056\n",
       "TotalCharge              0\n",
       "Additional_charges       0\n",
       "Item1                    0\n",
       "Item2                    0\n",
       "Item3                    0\n",
       "Item4                    0\n",
       "Item5                    0\n",
       "Item6                    0\n",
       "Item7                    0\n",
       "Item8                    0\n",
       "dtype: int64"
      ]
     },
     "execution_count": 8,
     "metadata": {},
     "output_type": "execute_result"
    }
   ],
   "source": [
    "# Returning a list of variables with total counts for missing values \n",
    "df.isnull().sum()"
   ]
  },
  {
   "attachments": {},
   "cell_type": "markdown",
   "metadata": {},
   "source": [
    "Here we can see that there are 7 columns with missing values; **children**, **age**, **income**, **soft_drink**, **overweight**, **anxiety** and **initial_days**\n",
    "<br>\n",
    "<br>1) **Children** and **Age** are considered *discrete quantitative variables* because they can only be particular numbers\n",
    "<br>2) **Income** and **Initial_days** are considered *continuous quantitative variables* because your income can be whole numbers or contain decimals\n",
    "<br>3) **Overweight**, **Soft_drink** and **Anxiety** are considered *nominal qualitative variables* because they are either yes or no\n",
    "\n",
    "We will return some basic statistics on the quantitative variables to check the before and after imputation."
   ]
  },
  {
   "cell_type": "code",
   "execution_count": 9,
   "metadata": {},
   "outputs": [
    {
     "data": {
      "text/html": [
       "<div>\n",
       "<style scoped>\n",
       "    .dataframe tbody tr th:only-of-type {\n",
       "        vertical-align: middle;\n",
       "    }\n",
       "\n",
       "    .dataframe tbody tr th {\n",
       "        vertical-align: top;\n",
       "    }\n",
       "\n",
       "    .dataframe thead th {\n",
       "        text-align: right;\n",
       "    }\n",
       "</style>\n",
       "<table border=\"1\" class=\"dataframe\">\n",
       "  <thead>\n",
       "    <tr style=\"text-align: right;\">\n",
       "      <th></th>\n",
       "      <th>Children</th>\n",
       "      <th>Age</th>\n",
       "      <th>Income</th>\n",
       "      <th>Initial_days</th>\n",
       "    </tr>\n",
       "  </thead>\n",
       "  <tbody>\n",
       "    <tr>\n",
       "      <th>count</th>\n",
       "      <td>7412.000000</td>\n",
       "      <td>7586.000000</td>\n",
       "      <td>7536.000000</td>\n",
       "      <td>8944.000000</td>\n",
       "    </tr>\n",
       "    <tr>\n",
       "      <th>mean</th>\n",
       "      <td>2.098219</td>\n",
       "      <td>53.295676</td>\n",
       "      <td>40484.438268</td>\n",
       "      <td>34.432082</td>\n",
       "    </tr>\n",
       "    <tr>\n",
       "      <th>std</th>\n",
       "      <td>2.155427</td>\n",
       "      <td>20.659182</td>\n",
       "      <td>28664.861050</td>\n",
       "      <td>26.287050</td>\n",
       "    </tr>\n",
       "    <tr>\n",
       "      <th>min</th>\n",
       "      <td>0.000000</td>\n",
       "      <td>18.000000</td>\n",
       "      <td>154.080000</td>\n",
       "      <td>1.001981</td>\n",
       "    </tr>\n",
       "    <tr>\n",
       "      <th>25%</th>\n",
       "      <td>0.000000</td>\n",
       "      <td>35.000000</td>\n",
       "      <td>19450.792500</td>\n",
       "      <td>7.911709</td>\n",
       "    </tr>\n",
       "    <tr>\n",
       "      <th>50%</th>\n",
       "      <td>1.000000</td>\n",
       "      <td>53.000000</td>\n",
       "      <td>33942.280000</td>\n",
       "      <td>34.446941</td>\n",
       "    </tr>\n",
       "    <tr>\n",
       "      <th>75%</th>\n",
       "      <td>3.000000</td>\n",
       "      <td>71.000000</td>\n",
       "      <td>54075.235000</td>\n",
       "      <td>61.124654</td>\n",
       "    </tr>\n",
       "    <tr>\n",
       "      <th>max</th>\n",
       "      <td>10.000000</td>\n",
       "      <td>89.000000</td>\n",
       "      <td>207249.130000</td>\n",
       "      <td>71.981486</td>\n",
       "    </tr>\n",
       "  </tbody>\n",
       "</table>\n",
       "</div>"
      ],
      "text/plain": [
       "          Children          Age         Income  Initial_days\n",
       "count  7412.000000  7586.000000    7536.000000   8944.000000\n",
       "mean      2.098219    53.295676   40484.438268     34.432082\n",
       "std       2.155427    20.659182   28664.861050     26.287050\n",
       "min       0.000000    18.000000     154.080000      1.001981\n",
       "25%       0.000000    35.000000   19450.792500      7.911709\n",
       "50%       1.000000    53.000000   33942.280000     34.446941\n",
       "75%       3.000000    71.000000   54075.235000     61.124654\n",
       "max      10.000000    89.000000  207249.130000     71.981486"
      ]
     },
     "execution_count": 9,
     "metadata": {},
     "output_type": "execute_result"
    }
   ],
   "source": [
    "# Checking statistical information on the columns with missing data that are quantative\n",
    "df[['Children', 'Age', 'Income','Initial_days']].describe()"
   ]
  },
  {
   "attachments": {},
   "cell_type": "markdown",
   "metadata": {},
   "source": [
    "Using the seaborn package, we can create histograms of the quantitative variables **Children**, **Age**, **Income**, **Intial_days** to visually\n",
    "analyze their distribution, but before we must import the seaborn package into our notebook."
   ]
  },
  {
   "cell_type": "code",
   "execution_count": 11,
   "metadata": {},
   "outputs": [],
   "source": [
    "# Importing seaborn package with the inline magic function\n",
    "import seaborn as sns\n",
    "\n",
    "%matplotlib inline "
   ]
  },
  {
   "cell_type": "code",
   "execution_count": 12,
   "metadata": {},
   "outputs": [
    {
     "data": {
      "text/plain": [
       "<seaborn.axisgrid.FacetGrid at 0x2b3aa609b50>"
      ]
     },
     "execution_count": 12,
     "metadata": {},
     "output_type": "execute_result"
    },
    {
     "data": {
      "image/png": "[encoded data removed]",
      "text/plain": [
       "<Figure size 500x500 with 1 Axes>"
      ]
     },
     "metadata": {},
     "output_type": "display_data"
    },
    {
     "data": {
      "image/png": "[encoded data removed]",
      "text/plain": [
       "<Figure size 500x500 with 1 Axes>"
      ]
     },
     "metadata": {},
     "output_type": "display_data"
    },
    {
     "data": {
      "image/png": "[encoded data removed]",
      "text/plain": [
       "<Figure size 500x500 with 1 Axes>"
      ]
     },
     "metadata": {},
     "output_type": "display_data"
    },
    {
     "data": {
      "image/png": "[encoded data removed]",
      "text/plain": [
       "<Figure size 500x500 with 1 Axes>"
      ]
     },
     "metadata": {},
     "output_type": "display_data"
    }
   ],
   "source": [
    "#Plotting histograms\n",
    "sns.displot(df, x='Children')\n",
    "sns.displot(df, x='Age')\n",
    "sns.displot(df, x='Income')\n",
    "sns.displot(df, x='Initial_days')"
   ]
  },
  {
   "attachments": {},
   "cell_type": "markdown",
   "metadata": {},
   "source": [
    "From these graphs, we can see that:\n",
    "\n",
    "1) Both **Children** and **Income** are positively skewed to the right\n",
    "2) **Age** is uniformly distributed \n",
    "3) **Initial_days** has a bimodal distribution\n",
    "\n",
    "For **Income**, **Children** and **Initial_days** variables, we will treat missing values by imputation using the median value while for **Age** we will be using the mean for imputation."
   ]
  },
  {
   "cell_type": "code",
   "execution_count": 13,
   "metadata": {},
   "outputs": [],
   "source": [
    "# Performing imputation \n",
    "df['Children'].fillna(df['Children'].median(), inplace= True) # Using median value for Children\n",
    "df['Income'].fillna(df['Income'].median(), inplace= True) # Using Median value for Income\n",
    "df['Initial_days'].fillna(df['Initial_days'].median(), inplace= True) # Using median value for Initial_days"
   ]
  },
  {
   "cell_type": "code",
   "execution_count": 14,
   "metadata": {},
   "outputs": [
    {
     "data": {
      "text/html": [
       "<div>\n",
       "<style scoped>\n",
       "    .dataframe tbody tr th:only-of-type {\n",
       "        vertical-align: middle;\n",
       "    }\n",
       "\n",
       "    .dataframe tbody tr th {\n",
       "        vertical-align: top;\n",
       "    }\n",
       "\n",
       "    .dataframe thead th {\n",
       "        text-align: right;\n",
       "    }\n",
       "</style>\n",
       "<table border=\"1\" class=\"dataframe\">\n",
       "  <thead>\n",
       "    <tr style=\"text-align: right;\">\n",
       "      <th></th>\n",
       "      <th>Children</th>\n",
       "      <th>Age</th>\n",
       "      <th>Income</th>\n",
       "      <th>Initial_days</th>\n",
       "    </tr>\n",
       "  </thead>\n",
       "  <tbody>\n",
       "    <tr>\n",
       "      <th>count</th>\n",
       "      <td>10000.000000</td>\n",
       "      <td>7586.000000</td>\n",
       "      <td>10000.000000</td>\n",
       "      <td>10000.000000</td>\n",
       "    </tr>\n",
       "    <tr>\n",
       "      <th>mean</th>\n",
       "      <td>1.814000</td>\n",
       "      <td>53.295676</td>\n",
       "      <td>38872.450471</td>\n",
       "      <td>34.433651</td>\n",
       "    </tr>\n",
       "    <tr>\n",
       "      <th>std</th>\n",
       "      <td>1.916969</td>\n",
       "      <td>20.659182</td>\n",
       "      <td>25042.796229</td>\n",
       "      <td>24.860232</td>\n",
       "    </tr>\n",
       "    <tr>\n",
       "      <th>min</th>\n",
       "      <td>0.000000</td>\n",
       "      <td>18.000000</td>\n",
       "      <td>154.080000</td>\n",
       "      <td>1.001981</td>\n",
       "    </tr>\n",
       "    <tr>\n",
       "      <th>25%</th>\n",
       "      <td>1.000000</td>\n",
       "      <td>35.000000</td>\n",
       "      <td>23956.162500</td>\n",
       "      <td>8.928987</td>\n",
       "    </tr>\n",
       "    <tr>\n",
       "      <th>50%</th>\n",
       "      <td>1.000000</td>\n",
       "      <td>53.000000</td>\n",
       "      <td>33942.280000</td>\n",
       "      <td>34.446941</td>\n",
       "    </tr>\n",
       "    <tr>\n",
       "      <th>75%</th>\n",
       "      <td>3.000000</td>\n",
       "      <td>71.000000</td>\n",
       "      <td>46466.797500</td>\n",
       "      <td>59.459981</td>\n",
       "    </tr>\n",
       "    <tr>\n",
       "      <th>max</th>\n",
       "      <td>10.000000</td>\n",
       "      <td>89.000000</td>\n",
       "      <td>207249.130000</td>\n",
       "      <td>71.981486</td>\n",
       "    </tr>\n",
       "  </tbody>\n",
       "</table>\n",
       "</div>"
      ],
      "text/plain": [
       "           Children          Age         Income  Initial_days\n",
       "count  10000.000000  7586.000000   10000.000000  10000.000000\n",
       "mean       1.814000    53.295676   38872.450471     34.433651\n",
       "std        1.916969    20.659182   25042.796229     24.860232\n",
       "min        0.000000    18.000000     154.080000      1.001981\n",
       "25%        1.000000    35.000000   23956.162500      8.928987\n",
       "50%        1.000000    53.000000   33942.280000     34.446941\n",
       "75%        3.000000    71.000000   46466.797500     59.459981\n",
       "max       10.000000    89.000000  207249.130000     71.981486"
      ]
     },
     "execution_count": 14,
     "metadata": {},
     "output_type": "execute_result"
    }
   ],
   "source": [
    "# Checking statistics again\n",
    "df[['Children', 'Age', 'Income','Initial_days']].describe()"
   ]
  }
 ],
 "metadata": {
  "kernelspec": {
   "display_name": "base",
   "language": "python",
   "name": "python3"
  },
  "language_info": {
   "codemirror_mode": {
    "name": "ipython",
    "version": 3
   },
   "file_extension": ".py",
   "mimetype": "text/x-python",
   "name": "python",
   "nbconvert_exporter": "python",
   "pygments_lexer": "ipython3",
   "version": "3.9.13"
  },
  "orig_nbformat": 4,
  "vscode": {
   "interpreter": {
    "hash": "23ecf8896591abdb4f319a996273d77760c5f800ba007ba21e578a28215e94bc"
   }
  }
 },
 "nbformat": 4,
 "nbformat_minor": 2
}

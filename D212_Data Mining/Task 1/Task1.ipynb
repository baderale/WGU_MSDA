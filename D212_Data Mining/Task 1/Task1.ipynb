{
 "cells": [
  {
   "cell_type": "code",
   "execution_count": null,
   "metadata": {},
   "outputs": [],
   "source": [
    "import pyforest\n",
    "\n",
    "from IPython.core.interactiveshell import InteractiveShell # Importing so we can run multiple lines in one cell`==\n",
    "InteractiveShell.ast_node_interactivity = \"all\" # Code so multiple lines in one cell can be ran simultaenously`==\n",
    "pd.set_option('display.max_columns', None)\n",
    "pd.set_option('display.max_rows', 100)\n",
    "import warnings\n",
    "warnings.filterwarnings('ignore')\n"
   ]
  },
  {
   "cell_type": "markdown",
   "metadata": {},
   "source": [
    "# ▶  Data Import"
   ]
  },
  {
   "cell_type": "code",
   "execution_count": null,
   "metadata": {},
   "outputs": [],
   "source": [
    "df = pd.read_csv('D:\\GitHub Repos\\WGU_MSDA\\D212_Data Mining\\medical_clean.csv')"
   ]
  },
  {
   "cell_type": "code",
   "execution_count": null,
   "metadata": {},
   "outputs": [],
   "source": [
    "df.head()"
   ]
  },
  {
   "cell_type": "code",
   "execution_count": 4,
   "metadata": {},
   "outputs": [],
   "source": [
    "# Creating a copy of the original dataframe and dropping columns that are not needed for clustering\n",
    "df_kmeans = df.copy()\n",
    "\n",
    "# New dataframe for k_means clustering\n",
    "df_kmeans.drop(['CaseOrder', 'Customer_id', 'Interaction', 'UID', 'City', \n",
    "                'Zip', 'Lat', 'Lng', 'Population', 'Area', 'TimeZone',\n",
    "                'State', 'County', 'Area', 'TimeZone', 'Job', 'Marital', \n",
    "                'Gender', 'Soft_drink', 'Initial_admin', 'HighBlood', 'Stroke', \n",
    "                'Complication_risk', 'Overweight', 'Arthritis', 'Diabetes', \n",
    "                'Hyperlipidemia', 'BackPain', 'Anxiety', 'Allergic_rhinitis', \n",
    "                'Reflux_esophagitis', 'Asthma', 'Services', 'Item1', 'Item2',\n",
    "                'Item3', 'Item4', 'Item5', 'Item6', 'Item7', 'Item8'], axis=1, inplace=True)"
   ]
  },
  {
   "cell_type": "code",
   "execution_count": null,
   "metadata": {},
   "outputs": [],
   "source": [
    "df_kmeans.head()"
   ]
  },
  {
   "cell_type": "code",
   "execution_count": 6,
   "metadata": {},
   "outputs": [],
   "source": [
    "from sklearn.preprocessing import LabelEncoder\n",
    "\n",
    "enc = LabelEncoder()\n",
    "\n",
    "df_kmeans['ReAdmis'] = enc.fit_transform(df_kmeans['ReAdmis'])\n"
   ]
  },
  {
   "cell_type": "code",
   "execution_count": null,
   "metadata": {},
   "outputs": [],
   "source": [
    "# df_kmeans after encoding\n",
    "df_kmeans.head()"
   ]
  },
  {
   "cell_type": "code",
   "execution_count": null,
   "metadata": {},
   "outputs": [],
   "source": [
    "# Checking is ReAdmis has been encoded  to 0 and 1\n",
    "df_kmeans['ReAdmis'].unique()"
   ]
  },
  {
   "cell_type": "markdown",
   "metadata": {},
   "source": [
    "We will now Stardardize our dataframe.  \n",
    "Reason: K-Means is based on Euclidean distances, and variables with larger scales (e.g., income or population) will dominate the clustering process if not standardized."
   ]
  },
  {
   "cell_type": "code",
   "execution_count": null,
   "metadata": {},
   "outputs": [],
   "source": [
    "from sklearn.preprocessing import StandardScaler\n",
    "\n",
    "scaler = StandardScaler()\n",
    "df_means_columns = df_kmeans.columns    \n",
    "df_kmeans_scaled = pd.DataFrame(scaler.fit_transform(df_kmeans), columns=df_means_columns)"
   ]
  },
  {
   "cell_type": "code",
   "execution_count": null,
   "metadata": {},
   "outputs": [],
   "source": [
    "df_kmeans_scaled.head()"
   ]
  },
  {
   "cell_type": "code",
   "execution_count": null,
   "metadata": {},
   "outputs": [],
   "source": [
    "df_kmeans_scaled['ReAdmis'].unique()"
   ]
  },
  {
   "cell_type": "markdown",
   "metadata": {},
   "source": [
    "We have scaled our data and inserted the appropiate column names."
   ]
  },
  {
   "cell_type": "code",
   "execution_count": null,
   "metadata": {},
   "outputs": [],
   "source": [
    "# Plot correlation heatmap\n",
    "plt.figure(figsize=(12, 8))\n",
    "sns.heatmap(df_kmeans_scaled.corr(), annot=True, cmap='coolwarm', linewidths=0.5, fmt='.2f')\n",
    "plt.title(\"Correlation Heatmap of Features\")\n",
    "plt.show();"
   ]
  },
  {
   "cell_type": "markdown",
   "metadata": {},
   "source": [
    "We will use 2 variables for the clustering algorithm, namely Age and VitD levels.  \n",
    "Reason:  \n",
    "    - Age: While it has some correlation with Additional_charges (0.72), it’s not too high, and age can offer valuable insights for clustering.  \n",
    "    - VitD_levels: This feature has low correlations with others and could provide interesting insights related to health in the clustering process."
   ]
  },
  {
   "cell_type": "code",
   "execution_count": null,
   "metadata": {},
   "outputs": [],
   "source": [
    "# Creating a new dataframe with just the variables of interest for k-means clustering\n",
    "clusterdata = df_kmeans_scaled[['Age', 'VitD_levels', 'ReAdmis']]\n",
    "clusterdata.head()"
   ]
  },
  {
   "cell_type": "code",
   "execution_count": null,
   "metadata": {},
   "outputs": [],
   "source": [
    "sns.scatterplot(data = clusterdata, x = 'Age', y = 'VitD_levels', hue = 'ReAdmis', palette = 'viridis');"
   ]
  },
  {
   "cell_type": "code",
   "execution_count": null,
   "metadata": {},
   "outputs": [],
   "source": [
    "# Initializing KMeans\n",
    "from sklearn.cluster import KMeans\n",
    "\n",
    "k_model = KMeans(n_clusters=3, n_init= 25, random_state=42)\n",
    "\n",
    "k_model.fit(clusterdata)"
   ]
  },
  {
   "cell_type": "code",
   "execution_count": null,
   "metadata": {},
   "outputs": [],
   "source": [
    "# Calculating centroids\n",
    "centroids = pd.DataFrame(k_model.cluster_centers_, columns = clusterdata.columns)\n",
    "centroids"
   ]
  },
  {
   "cell_type": "code",
   "execution_count": null,
   "metadata": {},
   "outputs": [],
   "source": [
    "plt.figure(figsize=(12, 10));\n",
    "ax = sns.scatterplot(data=clusterdata,\n",
    "                     x='Age',\n",
    "                     y='VitD_levels',\n",
    "                     hue=k_model.labels_,\n",
    "                     palette='colorblind',\n",
    "                     alpha=0.9,\n",
    "                     s=150,\n",
    "                     legend=True)\n",
    "\n",
    "sns.scatterplot(data=centroids,\n",
    "                x='Age',\n",
    "                y='VitD_levels',\n",
    "                hue=centroids.index,\n",
    "                palette='colorblind',\n",
    "                s=900,\n",
    "                marker='D',\n",
    "                edgecolor='black',\n",
    "                legend=False);"
   ]
  }
 ],
 "metadata": {
  "kernelspec": {
   "display_name": "base",
   "language": "python",
   "name": "python3"
  },
  "language_info": {
   "codemirror_mode": {
    "name": "ipython",
    "version": 3
   },
   "file_extension": ".py",
   "mimetype": "text/x-python",
   "name": "python",
   "nbconvert_exporter": "python",
   "pygments_lexer": "ipython3",
   "version": "3.12.3"
  }
 },
 "nbformat": 4,
 "nbformat_minor": 2
}

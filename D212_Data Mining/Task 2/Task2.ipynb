{
 "cells": [
  {
   "cell_type": "code",
   "execution_count": null,
   "metadata": {},
   "outputs": [],
   "source": [
    "import pyforest\n",
    "\n",
    "from IPython.core.interactiveshell import InteractiveShell # Importing so we can run multiple lines in one cell`==\n",
    "InteractiveShell.ast_node_interactivity = \"all\" # Code so multiple lines in one cell can be ran simultaenously`==\n",
    "pd.set_option('display.max_columns', None)\n",
    "pd.set_option('display.max_rows', 100)\n",
    "import warnings\n",
    "warnings.filterwarnings('ignore')\n"
   ]
  },
  {
   "cell_type": "markdown",
   "metadata": {},
   "source": [
    "# ▶  Data Import"
   ]
  },
  {
   "cell_type": "code",
   "execution_count": null,
   "metadata": {},
   "outputs": [],
   "source": [
    "df = pd.read_csv('D:\\GitHub Repos\\WGU_MSDA\\D212_Data Mining\\medical_clean.csv')"
   ]
  },
  {
   "cell_type": "code",
   "execution_count": null,
   "metadata": {},
   "outputs": [],
   "source": [
    "df.head()"
   ]
  },
  {
   "cell_type": "code",
   "execution_count": null,
   "metadata": {},
   "outputs": [],
   "source": [
    "df.info()"
   ]
  },
  {
   "cell_type": "code",
   "execution_count": null,
   "metadata": {},
   "outputs": [],
   "source": [
    "# Excluding object columns and only including numerical columns\n",
    "df1 = df.select_dtypes(exclude=['object'])"
   ]
  },
  {
   "cell_type": "code",
   "execution_count": null,
   "metadata": {},
   "outputs": [],
   "source": [
    "df1.head()"
   ]
  },
  {
   "cell_type": "code",
   "execution_count": null,
   "metadata": {},
   "outputs": [],
   "source": [
    "# Dropping unrelated columns    \n",
    "df1.drop(['Population','CaseOrder', 'Zip', 'Lat', 'Lng',\n",
    "           'Item1', 'Item2', 'Item3', 'Item4', \n",
    "           'Item5', 'Item6', 'Item7', 'Item8'], axis=1, inplace=True)"
   ]
  },
  {
   "cell_type": "code",
   "execution_count": null,
   "metadata": {},
   "outputs": [],
   "source": [
    "df1.head()"
   ]
  },
  {
   "cell_type": "code",
   "execution_count": null,
   "metadata": {},
   "outputs": [],
   "source": [
    "df1.info()"
   ]
  },
  {
   "cell_type": "code",
   "execution_count": null,
   "metadata": {},
   "outputs": [],
   "source": [
    "# Saving df1 column names for future use\n",
    "df1_columns = df1.columns"
   ]
  },
  {
   "cell_type": "code",
   "execution_count": null,
   "metadata": {},
   "outputs": [],
   "source": [
    "df1_columns"
   ]
  },
  {
   "cell_type": "markdown",
   "metadata": {},
   "source": [
    "# ▶  Data Preparation"
   ]
  },
  {
   "cell_type": "markdown",
   "metadata": {},
   "source": [
    "### Standardization"
   ]
  },
  {
   "cell_type": "code",
   "execution_count": null,
   "metadata": {},
   "outputs": [],
   "source": [
    "# Dataframe before scaling\n",
    "df1.head()"
   ]
  },
  {
   "cell_type": "code",
   "execution_count": null,
   "metadata": {},
   "outputs": [],
   "source": [
    "# Using Standard Scaler to scale the dataframe df1\n",
    "\n",
    "scaler = StandardScaler()\n",
    "df1_scaled = scaler.fit_transform(df1) # First scaling data\n",
    "df1_scaled = pd.DataFrame(df1_scaled, columns=df1_columns) # Converting scaled data to dataframe\n",
    "\n",
    "#Svaing scaled dataframe 'df1' to CSV\n",
    "df1_scaled.to_csv('Medical Clean-Task2', index=False)"
   ]
  },
  {
   "cell_type": "code",
   "execution_count": null,
   "metadata": {},
   "outputs": [],
   "source": [
    "# Dataframe after Scaling\n",
    "df1_scaled.head()"
   ]
  },
  {
   "cell_type": "markdown",
   "metadata": {},
   "source": [
    "# ▶  Principal Component Analysis (PCA)"
   ]
  },
  {
   "cell_type": "code",
   "execution_count": null,
   "metadata": {},
   "outputs": [],
   "source": [
    "# Performing PCA\n",
    "pca = PCA()  # You can change the number of components as needed\n",
    "principal_components = pca.fit_transform(df1_scaled)\n",
    "\n",
    "# Creating a DataFrame with the principal components\n",
    "df1_pca = pd.DataFrame(data=principal_components, columns=['PC1', 'PC2', 'PC3', 'PC4', 'PC5', 'PC6', 'PC7', 'PC8', 'PC9', 'PC10'])\n",
    "\n",
    "# Displaying the first few rows of the PCA result\n",
    "df1_pca.head()"
   ]
  },
  {
   "cell_type": "markdown",
   "metadata": {},
   "source": [
    "### Covariance Matrix  \n",
    "The covariance represents the relationship between original variables."
   ]
  },
  {
   "cell_type": "code",
   "execution_count": null,
   "metadata": {},
   "outputs": [],
   "source": [
    "# Get the covariance matrix\n",
    "covariance_matrix = pca.get_covariance()\n",
    "\n",
    "# Feature names (from the original dataframe)\n",
    "feature_names = df1_scaled.columns\n",
    "\n",
    "# Convert the covariance matrix to a DataFrame\n",
    "cov_df = pd.DataFrame(covariance_matrix, index=feature_names, columns=feature_names)\n",
    "\n",
    "# Display the DataFrame\n",
    "cov_df.head()"
   ]
  },
  {
   "cell_type": "markdown",
   "metadata": {},
   "source": [
    "### Loading Matrix  \n",
    "The loading matrix contains the eigenvectors which represents how much the original variable contributes to each principal component."
   ]
  },
  {
   "cell_type": "code",
   "execution_count": null,
   "metadata": {},
   "outputs": [],
   "source": [
    "loading_matrix = pd.DataFrame(pca.components_, columns=df1_scaled.columns, index=df1_pca.columns)\n",
    "loading_matrix.head(20)"
   ]
  },
  {
   "cell_type": "markdown",
   "metadata": {},
   "source": [
    "### Variance of each Principal Component"
   ]
  },
  {
   "cell_type": "code",
   "execution_count": null,
   "metadata": {},
   "outputs": [],
   "source": [
    "# Variance of each principal component\n",
    "explained_variance = pca.explained_variance_\n",
    "\n",
    "# Display the variance\n",
    "for i, var in enumerate(explained_variance):\n",
    "    print(f\"PC{i+1}: {var:.4f}\")\n"
   ]
  },
  {
   "cell_type": "markdown",
   "metadata": {},
   "source": [
    "### Total Number of Principal Components - Kaiser Criterion"
   ]
  },
  {
   "cell_type": "code",
   "execution_count": null,
   "metadata": {},
   "outputs": [],
   "source": [
    "eigenvalues = pca.explained_variance_\n",
    "num_components = sum(eigenvalues > 1)\n",
    "print(\"Number of components (Kaiser Criterion):\", num_components)"
   ]
  },
  {
   "cell_type": "code",
   "execution_count": null,
   "metadata": {},
   "outputs": [],
   "source": [
    "# Create a DataFrame for components\n",
    "components_df = pd.DataFrame({\n",
    "    'Principal Component': [f'PC{i+1}' for i in range(len(pca.explained_variance_))],\n",
    "    'Eigenvalue': pca.explained_variance_,\n",
    "    'Explained Variance Ratio (%)': pca.explained_variance_ratio_ * 100\n",
    "})\n",
    "\n",
    "# Filter components based on Kaiser Criterion\n",
    "retained_components_df = components_df[components_df['Eigenvalue'] > 1]\n",
    "\n",
    "print(\"Retained Components (Kaiser Criterion):\")\n",
    "print(retained_components_df)\n"
   ]
  },
  {
   "cell_type": "code",
   "execution_count": null,
   "metadata": {},
   "outputs": [],
   "source": [
    "# Scree Plot with Kaiser Criterion\n",
    "\n",
    "plt.figure(figsize=(8, 5))\n",
    "plt.plot(range(1, len(pca.explained_variance_) + 1), pca.explained_variance_, marker='o', linestyle='--')\n",
    "plt.axhline(y=1, color='r', linestyle='--', label='Kaiser Criterion (Eigenvalue = 1)')\n",
    "plt.xlabel('Principal Component')\n",
    "plt.ylabel('Eigenvalue')\n",
    "plt.title('Scree Plot with Kaiser Criterion')\n",
    "plt.legend()\n",
    "plt.grid()\n",
    "plt.show();\n"
   ]
  },
  {
   "cell_type": "markdown",
   "metadata": {},
   "source": [
    "### Total Variance"
   ]
  },
  {
   "cell_type": "code",
   "execution_count": null,
   "metadata": {},
   "outputs": [],
   "source": [
    "# Calculate the number of components retained by the Kaiser Criterion\n",
    "num_components_kaiser = sum(pca.explained_variance_ > 1)\n",
    "print(f\"Number of components retained (Kaiser Criterion): {num_components_kaiser}\")\n",
    "\n",
    "# Calculate the total variance captured in numerical terms\n",
    "total_variance_kaiser_numeric = sum(pca.explained_variance_[:num_components_kaiser])\n",
    "print(f\"Total variance captured (numerical): {total_variance_kaiser_numeric:.4f}\")\n",
    "\n",
    "# Calculate the total variance captured in percentage terms\n",
    "total_variance_kaiser_percentage = sum(pca.explained_variance_ratio_[:num_components_kaiser]) * 100\n",
    "print(f\"Total variance captured (percentage): {total_variance_kaiser_percentage:.2f}%\")\n"
   ]
  }
 ],
 "metadata": {
  "kernelspec": {
   "display_name": "base",
   "language": "python",
   "name": "python3"
  },
  "language_info": {
   "codemirror_mode": {
    "name": "ipython",
    "version": 3
   },
   "file_extension": ".py",
   "mimetype": "text/x-python",
   "name": "python",
   "nbconvert_exporter": "python",
   "pygments_lexer": "ipython3",
   "version": "3.12.7"
  }
 },
 "nbformat": 4,
 "nbformat_minor": 2
}

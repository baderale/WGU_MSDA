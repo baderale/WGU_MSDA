{
 "cells": [
  {
   "attachments": {},
   "cell_type": "markdown",
   "metadata": {},
   "source": [
    "<h1><center>Performance Assessment Task 1 - Linear Regression Modeling</center></h1>\n",
    "<h3><center> by Bader Ale <center><h3>"
   ]
  },
  {
   "attachments": {},
   "cell_type": "markdown",
   "metadata": {},
   "source": [
    "# ▶ Research Question\n",
    "Our research questions is as follows: __What patient factors contributed to the highest total charge billed to the patient during their hospital stay.__."
   ]
  },
  {
   "cell_type": "code",
   "execution_count": null,
   "metadata": {},
   "outputs": [],
   "source": [
    "# Importing libraries\n",
    "import pandas as pd\n",
    "import seaborn as sns\n",
    "import matplotlib.pyplot as plt\n",
    "import numpy as np\n",
    "\n",
    "from IPython.core.interactiveshell import InteractiveShell # Importing so we can run multiple lines in one cell\n",
    "InteractiveShell.ast_node_interactivity = \"all\" # Code so multiple lines in one cell can be ran simultaenously \n",
    "\n",
    "pd.set_option('display.max_columns', None)\n",
    "pd.set_option('display.max_rows', None)\n",
    "import warnings\n",
    "warnings.filterwarnings('ignore')"
   ]
  },
  {
   "cell_type": "code",
   "execution_count": null,
   "metadata": {},
   "outputs": [],
   "source": [
    "# Importing original dataset\n",
    "df = pd.read_csv('F:/GitHub Repos/WGU_MSDA/D208_Predictive Modeling/medical_clean.csv')"
   ]
  },
  {
   "attachments": {},
   "cell_type": "markdown",
   "metadata": {},
   "source": [
    "# ▶ Data Cleaning  "
   ]
  },
  {
   "cell_type": "code",
   "execution_count": null,
   "metadata": {},
   "outputs": [],
   "source": [
    "# Showing first 5 records\n",
    "df.head()"
   ]
  },
  {
   "cell_type": "code",
   "execution_count": null,
   "metadata": {},
   "outputs": [],
   "source": [
    "# Creating new dataframe with only those variables of interest\n",
    "df1 = df[['Area','Age', 'Income','Marital', 'Gender', 'VitD_levels', 'Doc_visits', 'Initial_admin','Complication_risk', 'Overweight', 'Arthritis', 'Diabetes', 'Hyperlipidemia', 'Asthma','Services','Initial_days', 'TotalCharge']]\n",
    "df1.head()"
   ]
  },
  {
   "attachments": {},
   "cell_type": "markdown",
   "metadata": {},
   "source": [
    "## Detection and Treatment of Nulls"
   ]
  },
  {
   "cell_type": "code",
   "execution_count": null,
   "metadata": {},
   "outputs": [],
   "source": [
    "# Getting number of rows and columns\n",
    "df1.shape"
   ]
  },
  {
   "cell_type": "code",
   "execution_count": null,
   "metadata": {},
   "outputs": [],
   "source": [
    "# Checking for null values\n",
    "df1.isnull().sum()"
   ]
  },
  {
   "attachments": {},
   "cell_type": "markdown",
   "metadata": {},
   "source": [
    "Here we can see there are no Nulls in our new dataframe"
   ]
  },
  {
   "attachments": {},
   "cell_type": "markdown",
   "metadata": {},
   "source": [
    "## Detection and Treatment of Duplicated Values"
   ]
  },
  {
   "cell_type": "code",
   "execution_count": null,
   "metadata": {},
   "outputs": [],
   "source": [
    "# Checking for duplicates\n",
    "df1.duplicated().value_counts()"
   ]
  },
  {
   "attachments": {},
   "cell_type": "markdown",
   "metadata": {},
   "source": [
    "The output shows 10000 records as being False, therefore we do not have any duplicated values."
   ]
  },
  {
   "attachments": {},
   "cell_type": "markdown",
   "metadata": {},
   "source": [
    "## Detection and Treatment of Outliers"
   ]
  },
  {
   "cell_type": "code",
   "execution_count": null,
   "metadata": {},
   "outputs": [],
   "source": [
    "# Checking datatypes for all variables in new dataframe\n",
    "df1.dtypes"
   ]
  },
  {
   "attachments": {},
   "cell_type": "markdown",
   "metadata": {},
   "source": [
    "We will first focus on the continuous variables and analyze, if any, the outliers. We will normalize our data for ease of visual interpretation"
   ]
  },
  {
   "cell_type": "code",
   "execution_count": null,
   "metadata": {},
   "outputs": [],
   "source": [
    "# Performing normalization on the continuous variables for the new dataframe\n",
    "from sklearn.preprocessing import MinMaxScaler\n",
    "\n",
    "scaler = MinMaxScaler()\n",
    "scaler.fit(df1[['Age', 'Income', 'VitD_levels','Doc_visits','Initial_days','TotalCharge']]) # Selecting only those numerical variables in our new dataframe\n",
    "scaled = scaler.fit_transform(df1[['Age', 'Income', 'VitD_levels','Doc_visits','Initial_days','TotalCharge']])\n",
    "df1_norm = pd.DataFrame(scaled, columns = ['Age', 'Income', 'VitD_levels','Doc_visits','Initial_days','TotalCharge']) # Creating a new dataframe for visualization"
   ]
  },
  {
   "cell_type": "code",
   "execution_count": null,
   "metadata": {},
   "outputs": [],
   "source": [
    "# Plotting boxplots\n",
    "sns.boxplot(df1_norm)\n",
    "plt.title('Numeric Variables')\n",
    "plt.ylabel('Count(Normalized)')\n",
    "plt.xlabel('Explanatory Variables');"
   ]
  },
  {
   "cell_type": "code",
   "execution_count": null,
   "metadata": {},
   "outputs": [],
   "source": [
    "# Importing SciPy library\n",
    "import scipy.stats as stats\n",
    "\n",
    "# Creating a new column for the Income and VitaminD_level z-scores\n",
    "df1['Income_z_Scores'] = stats.zscore(df1['Income'])\n",
    "df1['VitD_level_z_Scores'] = stats.zscore(df1['VitD_levels'])"
   ]
  },
  {
   "cell_type": "code",
   "execution_count": null,
   "metadata": {},
   "outputs": [],
   "source": [
    "df1.head()"
   ]
  },
  {
   "cell_type": "code",
   "execution_count": null,
   "metadata": {},
   "outputs": [],
   "source": [
    "# Creating a new dataframe with extracted Income and VitD_levels outliers\n",
    "df1_no_outliers = df1[(df1['Income_z_Scores'] > -3) & (df1['Income_z_Scores'] < 3) & (df1['VitD_level_z_Scores'] > -3) & (df1['VitD_level_z_Scores'] < 3)]"
   ]
  },
  {
   "cell_type": "code",
   "execution_count": null,
   "metadata": {},
   "outputs": [],
   "source": [
    "df1_no_outliers.head()"
   ]
  },
  {
   "cell_type": "code",
   "execution_count": null,
   "metadata": {},
   "outputs": [],
   "source": [
    "# Dropping the Income_z_Scores and Vit_D_levels columns since\n",
    "# we won't need it anymore\n",
    "df1_no_outliers.drop(['Income_z_Scores', 'VitD_level_z_Scores'], axis=1, inplace=True)\n",
    "\n",
    "df1_no_outliers.head()"
   ]
  },
  {
   "attachments": {},
   "cell_type": "markdown",
   "metadata": {},
   "source": [
    "# ▶ Exploratory Data Analysis  "
   ]
  },
  {
   "cell_type": "code",
   "execution_count": null,
   "metadata": {},
   "outputs": [],
   "source": [
    "# Summary Statistics\n",
    "df1_no_outliers.describe()"
   ]
  },
  {
   "cell_type": "code",
   "execution_count": null,
   "metadata": {},
   "outputs": [],
   "source": [
    "df1_no_outliers.dtypes"
   ]
  },
  {
   "attachments": {},
   "cell_type": "markdown",
   "metadata": {},
   "source": [
    "## Univariate Analysis  \n",
    "### Numeric Variables"
   ]
  },
  {
   "cell_type": "code",
   "execution_count": null,
   "metadata": {},
   "outputs": [],
   "source": [
    "# Univariate analysis visualizations for numerical variables\n",
    "sns.displot(df1_no_outliers['Age']);\n",
    "sns.displot(df1_no_outliers['Income']);\n",
    "sns.displot(df1_no_outliers['VitD_levels']);\n",
    "sns.displot(df1_no_outliers['Doc_visits']);\n",
    "sns.displot(df1_no_outliers['Initial_days']);\n",
    "sns.displot(df1_no_outliers['TotalCharge']);"
   ]
  },
  {
   "cell_type": "markdown",
   "metadata": {},
   "source": [
    "### Categorical Variables"
   ]
  },
  {
   "cell_type": "code",
   "execution_count": null,
   "metadata": {},
   "outputs": [],
   "source": [
    "sns.histplot(df1_no_outliers['Area']);"
   ]
  },
  {
   "cell_type": "code",
   "execution_count": null,
   "metadata": {},
   "outputs": [],
   "source": [
    "sns.histplot(df1_no_outliers['Marital']);"
   ]
  },
  {
   "cell_type": "code",
   "execution_count": null,
   "metadata": {},
   "outputs": [],
   "source": [
    "sns.histplot(df1_no_outliers['Gender']);"
   ]
  },
  {
   "cell_type": "code",
   "execution_count": null,
   "metadata": {},
   "outputs": [],
   "source": [
    "sns.histplot(df1_no_outliers['Initial_admin']);"
   ]
  },
  {
   "cell_type": "code",
   "execution_count": null,
   "metadata": {},
   "outputs": [],
   "source": [
    "sns.histplot(df1_no_outliers['Services']);"
   ]
  },
  {
   "cell_type": "code",
   "execution_count": null,
   "metadata": {},
   "outputs": [],
   "source": [
    "sns.histplot(df1_no_outliers['Complication_risk']);"
   ]
  },
  {
   "cell_type": "code",
   "execution_count": null,
   "metadata": {},
   "outputs": [],
   "source": [
    "sns.histplot(df1_no_outliers['Overweight']);"
   ]
  },
  {
   "cell_type": "code",
   "execution_count": null,
   "metadata": {},
   "outputs": [],
   "source": [
    "sns.histplot(df1_no_outliers['Arthritis']);"
   ]
  },
  {
   "cell_type": "code",
   "execution_count": null,
   "metadata": {},
   "outputs": [],
   "source": [
    "sns.histplot(df1_no_outliers['Diabetes']);"
   ]
  },
  {
   "cell_type": "code",
   "execution_count": null,
   "metadata": {},
   "outputs": [],
   "source": [
    "sns.histplot(df1_no_outliers['Hyperlipidemia']);"
   ]
  },
  {
   "cell_type": "code",
   "execution_count": null,
   "metadata": {},
   "outputs": [],
   "source": [
    "sns.histplot(df1_no_outliers['Asthma']);"
   ]
  },
  {
   "attachments": {},
   "cell_type": "markdown",
   "metadata": {},
   "source": [
    "## Bivariate Analysis  \n",
    "### Numeric Variables"
   ]
  },
  {
   "cell_type": "code",
   "execution_count": null,
   "metadata": {},
   "outputs": [],
   "source": [
    "# Bivariate analysis visualizations for Age vs Total_Charge\n",
    "sns.jointplot(data=df1_no_outliers, x='Age', y='TotalCharge')\n",
    "plt.title('Age vs. Total Charge')\n",
    "fig = plt.gcf()\n",
    "fig.set_size_inches(16, 10);"
   ]
  },
  {
   "cell_type": "code",
   "execution_count": null,
   "metadata": {},
   "outputs": [],
   "source": [
    "# Income vs Total Charge\n",
    "sns.jointplot(data=df1_no_outliers, x='Income', y='TotalCharge')\n",
    "plt.title('Income vs. Total Charge')\n",
    "plt.xlabel('Annual Income of Patient (USD)')\n",
    "fig = plt.gcf()\n",
    "fig.set_size_inches(16, 10);"
   ]
  },
  {
   "cell_type": "code",
   "execution_count": null,
   "metadata": {},
   "outputs": [],
   "source": [
    "# VitaminD Levels vs Total Charge\n",
    "sns.jointplot(data=df1_no_outliers, x='VitD_levels', y='TotalCharge')\n",
    "plt.title('Vitamin D Levels vs. Total Charge')\n",
    "plt.xlabel('Vitamin D Levels (ng/mL)')\n",
    "fig = plt.gcf()\n",
    "fig.set_size_inches(16, 10);"
   ]
  },
  {
   "cell_type": "code",
   "execution_count": null,
   "metadata": {},
   "outputs": [],
   "source": [
    "# Doc-Visits vs Total Charge\n",
    "sns.jointplot(data=df1_no_outliers, x='Doc_visits', y='TotalCharge')\n",
    "plt.title('Doctor Visits vs. Total Charge')\n",
    "plt.xlabel('Number of Doctor Visits')\n",
    "fig = plt.gcf()\n",
    "fig.set_size_inches(16, 10);"
   ]
  },
  {
   "cell_type": "code",
   "execution_count": null,
   "metadata": {},
   "outputs": [],
   "source": [
    "# Doc-Visits vs Total Charge\n",
    "sns.jointplot(data=df1_no_outliers, x='Initial_days', y='TotalCharge')\n",
    "plt.title('Length of Stay vs. Total Charge')\n",
    "plt.xlabel('Length of Stay (days)')\n",
    "fig = plt.gcf()\n",
    "fig.set_size_inches(16, 10);"
   ]
  },
  {
   "cell_type": "markdown",
   "metadata": {},
   "source": [
    "### Categorical Variables"
   ]
  },
  {
   "cell_type": "code",
   "execution_count": null,
   "metadata": {},
   "outputs": [],
   "source": [
    "df1_no_outliers.head()"
   ]
  },
  {
   "cell_type": "code",
   "execution_count": null,
   "metadata": {},
   "outputs": [],
   "source": [
    "sns.catplot(data=df1_no_outliers, x=\"Area\", y=\"TotalCharge\", kind='bar', errorbar=None)\n",
    "plt.title('Area vs. Total Charge');"
   ]
  },
  {
   "cell_type": "code",
   "execution_count": null,
   "metadata": {},
   "outputs": [],
   "source": [
    "sns.catplot(data=df1_no_outliers, x=\"Marital\", y=\"TotalCharge\", kind='bar', errorbar=None, height=4, aspect=2)\n",
    "plt.title('Marital vs. Total Charge');"
   ]
  },
  {
   "cell_type": "code",
   "execution_count": null,
   "metadata": {},
   "outputs": [],
   "source": [
    "sns.catplot(data=df1_no_outliers, x=\"Gender\", y=\"TotalCharge\", kind='bar', errorbar=None)\n",
    "plt.title('Gender vs. Total Charge');"
   ]
  },
  {
   "cell_type": "code",
   "execution_count": null,
   "metadata": {},
   "outputs": [],
   "source": [
    "sns.catplot(data=df1_no_outliers, x=\"Initial_admin\", y=\"TotalCharge\", kind='bar', errorbar=None,height=4, aspect=2)\n",
    "plt.title('Method of Admission vs. Total Charge');"
   ]
  },
  {
   "cell_type": "code",
   "execution_count": null,
   "metadata": {},
   "outputs": [],
   "source": [
    "sns.catplot(data=df1_no_outliers, x=\"Complication_risk\", y=\"TotalCharge\", kind='bar', errorbar=None,height=4, aspect=2)\n",
    "plt.title('Complication Risk vs. Total Charge');"
   ]
  },
  {
   "cell_type": "code",
   "execution_count": null,
   "metadata": {},
   "outputs": [],
   "source": [
    "sns.catplot(data=df1_no_outliers, x=\"Overweight\", y=\"TotalCharge\", kind='bar', errorbar=None)\n",
    "plt.title('Overweight vs. Total Charge');"
   ]
  },
  {
   "cell_type": "code",
   "execution_count": null,
   "metadata": {},
   "outputs": [],
   "source": [
    "sns.catplot(data=df1_no_outliers, x=\"Arthritis\", y=\"TotalCharge\", kind='bar', errorbar=None)\n",
    "plt.title('Arthritis vs. Total Charge');"
   ]
  },
  {
   "cell_type": "code",
   "execution_count": null,
   "metadata": {},
   "outputs": [],
   "source": [
    "sns.catplot(data=df1_no_outliers, x=\"Diabetes\", y=\"TotalCharge\", kind='bar', errorbar=None)\n",
    "plt.title('Diabetes vs. Total Charge');"
   ]
  },
  {
   "cell_type": "code",
   "execution_count": null,
   "metadata": {},
   "outputs": [],
   "source": [
    "sns.catplot(data=df1_no_outliers, x=\"Hyperlipidemia\", y=\"TotalCharge\", kind='bar', errorbar=None)\n",
    "plt.title('High Blood Pressure vs. Total Charge');"
   ]
  },
  {
   "cell_type": "code",
   "execution_count": null,
   "metadata": {},
   "outputs": [],
   "source": [
    "sns.catplot(data=df1_no_outliers, x=\"Asthma\", y=\"TotalCharge\", kind='bar', errorbar=None)\n",
    "plt.title('Asthma vs. Total Charge');"
   ]
  },
  {
   "cell_type": "code",
   "execution_count": null,
   "metadata": {},
   "outputs": [],
   "source": [
    "sns.catplot(data=df1_no_outliers, x=\"Services\", y=\"TotalCharge\", kind='bar', errorbar=None)\n",
    "plt.title('Medical Services vs. Total Charge');"
   ]
  },
  {
   "attachments": {},
   "cell_type": "markdown",
   "metadata": {},
   "source": [
    "# ▶ Data Wrangling  \n",
    "In this section, we will rexpress the categorical variables "
   ]
  },
  {
   "cell_type": "code",
   "execution_count": null,
   "metadata": {},
   "outputs": [],
   "source": [
    "# Printing datatypes \n",
    "df1_no_outliers.dtypes"
   ]
  },
  {
   "cell_type": "code",
   "execution_count": null,
   "metadata": {},
   "outputs": [],
   "source": [
    "# Using One-Hot encoding for nominal variables\n",
    "df2 = pd.get_dummies(data=df1_no_outliers, columns=['Area','Marital','Gender', 'Initial_admin','Overweight','Arthritis', 'Services', 'Overweight', 'Diabetes', 'Hyperlipidemia', 'Asthma'], drop_first=True )"
   ]
  },
  {
   "cell_type": "code",
   "execution_count": null,
   "metadata": {},
   "outputs": [],
   "source": [
    "# Using Ordinal Encoding for ordinal variables\n",
    "from sklearn.preprocessing import OrdinalEncoder\n",
    "\n",
    "enc = OrdinalEncoder()\n",
    "complication_encoded = enc.fit_transform(df2[['Complication_risk']])\n",
    "df2['Complication_risk'] = complication_encoded\n",
    "\n",
    "df2.head(10)\n"
   ]
  },
  {
   "cell_type": "code",
   "execution_count": null,
   "metadata": {},
   "outputs": [],
   "source": [
    "# Exporting dataframe to CSV\n",
    "df2.to_csv('model_data.csv',index=True)"
   ]
  },
  {
   "attachments": {},
   "cell_type": "markdown",
   "metadata": {},
   "source": [
    "# ▶ Initial Multiple Linear Regression Model  \n",
    "We will now construct our initial model"
   ]
  },
  {
   "cell_type": "code",
   "execution_count": null,
   "metadata": {
    "tags": [
     "Initial Model X and Y variables"
    ]
   },
   "outputs": [],
   "source": [
    "import statsmodels.api as sm\n",
    "import seaborn as sns\n",
    "\n",
    "# Creating feature variables, where X = independent variables and Y=dependent variables\n",
    "X_data = df2.drop('TotalCharge', axis=1)\n",
    "Y_data = df2['TotalCharge']\n",
    "\n",
    "print('The shape of the features is:',X_data.shape)\n",
    "X_data.head()\n",
    "print('The shape of the labels:',Y_data.shape)\n",
    "Y_data.head()"
   ]
  },
  {
   "cell_type": "code",
   "execution_count": null,
   "metadata": {},
   "outputs": [],
   "source": [
    "# Adding constant to X_data\n",
    "X_data = sm.add_constant(X_data)\n",
    "#np.asarray(X_data)\n",
    "\n",
    "# Fitting regression model \n",
    "model = sm.OLS(Y_data,np.asarray(X_data))\n",
    "#model.fit()\n",
    "\n",
    "#print(model.summary())"
   ]
  },
  {
   "cell_type": "code",
   "execution_count": null,
   "metadata": {},
   "outputs": [],
   "source": [
    "model_prediction = model.predict(X_data)\n",
    "model_prediction.shape\n",
    "model_prediction.head()"
   ]
  },
  {
   "cell_type": "code",
   "execution_count": null,
   "metadata": {},
   "outputs": [],
   "source": [
    "# Actual vs. Predicted Values for Initial Model\n",
    "sns.histplot(Y_data, label='Actual Values')\n",
    "sns.histplot(model_prediction, label=\"Predicted Values\", alpha=0.5)\n",
    "plt.title('Actual vs Predicted Values for Initial Model')\n",
    "plt.legend();"
   ]
  },
  {
   "cell_type": "code",
   "execution_count": null,
   "metadata": {},
   "outputs": [],
   "source": [
    "model.params"
   ]
  },
  {
   "cell_type": "markdown",
   "metadata": {},
   "source": [
    "Initial Regression Model Equation:\n",
    "\n",
    "TotalCharge = 2358.675577 + 0.060576(Age) +  0.000005(Income) + 0.220942(VitD_levels) + 1.222980(Doc_visits) - 200.577435(Complication_risk) + 81.929811(Initial_days)  \n",
    "              + 3.975710(Area_Suburban) + 4.727445(Area_Urban) + 4.514919(Marital_Married) - 3.355894(Marital_Never Married) - 4.737488(Marital_Separated) \n",
    "              - 5.767059(Marital_Widowed) - 0.520453(Gender_Male) + 13.478394(Gender_Nonbinary) + 511.564613(Initial_admin_Emergency Admission) \n",
    "              - 1.771107(Initial_admin_Observation Admission) + 2.337127(Overweight_Yes) + 72.877156(Arthritis_Yes) + 8.360456(Services_CT Scan) \n",
    "              - 2.740121(Services_Intravenous) - 1.166686(Services_MRI) + 2.337127(Overweight_Yes) + 71.513515(Diabetes_Yes) + 93.168755(Hyperlipidemia_Yes) \n",
    "              + 2.945512(Astha_Yes)"
   ]
  },
  {
   "attachments": {},
   "cell_type": "markdown",
   "metadata": {},
   "source": [
    "### Feature Selection"
   ]
  },
  {
   "cell_type": "code",
   "execution_count": null,
   "metadata": {},
   "outputs": [],
   "source": [
    "# Visualizing correlation heatmap in seaborn\n",
    "sns.heatmap(df2.corr(),annot=True, fmt=\".1f\", cmap='Blues')\n",
    "plt.title('Correlation Heat Map')\n",
    "fig = plt.gcf()\n",
    "fig.set_size_inches(18,16);"
   ]
  },
  {
   "cell_type": "code",
   "execution_count": null,
   "metadata": {},
   "outputs": [],
   "source": [
    "# Performing Recursive Feature Elimination to reduce number of explanatory variable\n",
    "\n",
    "# Importing necessary libraries\n",
    "from sklearn.ensemble import RandomForestRegressor\n",
    "from sklearn.model_selection import train_test_split\n",
    "from sklearn.feature_selection import RFE\n",
    "\n",
    "\n",
    "x_rfe = df2.drop('TotalCharge', axis=1)\n",
    "y_rfe = df2[['TotalCharge']]\n",
    "\n",
    "selector = RFE(estimator=RandomForestRegressor(), step=1, n_features_to_select=3)\n",
    "selector = selector.fit(x_rfe,y_rfe,)"
   ]
  },
  {
   "cell_type": "code",
   "execution_count": null,
   "metadata": {},
   "outputs": [],
   "source": [
    "# Printing what features were selected by the RFE process\n",
    "selector.get_feature_names_out()"
   ]
  },
  {
   "cell_type": "markdown",
   "metadata": {},
   "source": [
    "# ▶ Reduced Multiple Linear Regression Model"
   ]
  },
  {
   "cell_type": "code",
   "execution_count": null,
   "metadata": {},
   "outputs": [],
   "source": [
    "# Running reduced regression model with features named in RFE above\n",
    "X_data2 = df2[['Complication_risk', 'Initial_days', 'Initial_admin_Emergency Admission']]\n",
    "Y_data2 = df2[['TotalCharge']]\n",
    "\n",
    "print('The shape of the features is:',X_data2.shape)\n",
    "X_data2.head()\n",
    "print('The shape of the labels:',Y_data2.shape)\n",
    "Y_data2.head()"
   ]
  },
  {
   "cell_type": "code",
   "execution_count": null,
   "metadata": {},
   "outputs": [],
   "source": [
    "# Adding constant to X_data2\n",
    "X_data2 = sm.add_constant(X_data2)\n",
    "\n",
    "# Fitting regression model \n",
    "model2 = sm.OLS(Y_data2,X_data2).fit()\n",
    "\n",
    "# Creating prediction for reduced model \n",
    "model2_prediction = model2.predict(X_data2)"
   ]
  },
  {
   "cell_type": "code",
   "execution_count": null,
   "metadata": {},
   "outputs": [],
   "source": [
    "# Actual vs. Predicted Values for Reduced Model\n",
    "sns.histplot(Y_data2, label='Actual Values')\n",
    "sns.histplot(model2_prediction, label=\"Predicted Values\", alpha=0.5)\n",
    "plt.title('Actual vs Predicted Values for Reduced Model')\n",
    "plt.xlabel('TotalCharge')\n",
    "plt.legend();"
   ]
  },
  {
   "cell_type": "code",
   "execution_count": null,
   "metadata": {},
   "outputs": [],
   "source": [
    "print(model2.summary())"
   ]
  },
  {
   "cell_type": "code",
   "execution_count": null,
   "metadata": {},
   "outputs": [],
   "source": [
    "model2.params"
   ]
  },
  {
   "cell_type": "markdown",
   "metadata": {},
   "source": [
    "Reduced Regression Model Equation:\n",
    "\n",
    "TotalCharge = 2451.189539 - 199.260061(Complication_risk) + 81.945552(Initial_days) \n",
    "              + 513.432540(Initial_admin_Emergency Admission)"
   ]
  },
  {
   "attachments": {},
   "cell_type": "markdown",
   "metadata": {},
   "source": [
    "# ▶ Residual Plots (Task I)"
   ]
  },
  {
   "cell_type": "code",
   "execution_count": null,
   "metadata": {},
   "outputs": [],
   "source": [
    "# Initial Model vs Reduced Model Predictions\n",
    "sns.histplot(model_prediction, label='Initial Model')\n",
    "sns.histplot(model2_prediction, label=\"Reduced Model\", alpha = 0.5)\n",
    "plt.title('Initial Model Predictions vs Reduced Model Predictions')\n",
    "plt.legend();"
   ]
  },
  {
   "cell_type": "markdown",
   "metadata": {},
   "source": [
    "### Initial Regression Model"
   ]
  },
  {
   "cell_type": "code",
   "execution_count": null,
   "metadata": {},
   "outputs": [],
   "source": [
    "# Q-Q Plot of Initial Regression Model\n",
    "sm.qqplot(model.resid, line='s')\n",
    "plt.title('QQ Plot : Initial Regression Model')\n",
    "plt.show();"
   ]
  },
  {
   "cell_type": "code",
   "execution_count": null,
   "metadata": {},
   "outputs": [],
   "source": [
    "# Residual Mean Square Error  \n",
    "model.bse"
   ]
  },
  {
   "cell_type": "markdown",
   "metadata": {},
   "source": [
    "### Reduced Regression Model"
   ]
  },
  {
   "cell_type": "code",
   "execution_count": null,
   "metadata": {},
   "outputs": [],
   "source": [
    "# Q-Q Plot\n",
    "sm.qqplot(model2.resid, line='s')\n",
    "plt.title('QQ Plot : Reduced Regression Model')\n",
    "plt.show();"
   ]
  },
  {
   "cell_type": "code",
   "execution_count": null,
   "metadata": {},
   "outputs": [],
   "source": [
    "# Residual Mean Square Error  \n",
    "model2.bse"
   ]
  },
  {
   "attachments": {},
   "cell_type": "markdown",
   "metadata": {},
   "source": [
    "# ▶ Initial Logistic Regression Model  \n",
    "Research Question: **What patient factors cause high cholesterol?**"
   ]
  },
  {
   "cell_type": "code",
   "execution_count": null,
   "metadata": {},
   "outputs": [],
   "source": [
    "df2.head()"
   ]
  },
  {
   "cell_type": "code",
   "execution_count": null,
   "metadata": {},
   "outputs": [],
   "source": [
    "sns.barplot(data=df2, x=\"Complication_risk\", y=\"Hyperlipidemia_Yes\", errorbar=None,);"
   ]
  },
  {
   "cell_type": "code",
   "execution_count": null,
   "metadata": {},
   "outputs": [],
   "source": [
    "sns.barplot(data=df2, x=\"Area_Suburban\", y=\"Hyperlipidemia_Yes\", errorbar=None);\n"
   ]
  },
  {
   "cell_type": "code",
   "execution_count": null,
   "metadata": {},
   "outputs": [],
   "source": [
    "sns.barplot(data=df2, x=\"Area_Urban\", y=\"Hyperlipidemia_Yes\", errorbar=None);\n"
   ]
  },
  {
   "cell_type": "code",
   "execution_count": null,
   "metadata": {},
   "outputs": [],
   "source": [
    "sns.barplot(data=df2, x=\"Marital_Married\", y=\"Hyperlipidemia_Yes\", errorbar=None);\n"
   ]
  },
  {
   "cell_type": "code",
   "execution_count": null,
   "metadata": {},
   "outputs": [],
   "source": [
    "sns.barplot(data=df2, x=\"Marital_Never Married\", y=\"Hyperlipidemia_Yes\", errorbar=None);\n"
   ]
  },
  {
   "cell_type": "code",
   "execution_count": null,
   "metadata": {},
   "outputs": [],
   "source": [
    "sns.barplot(data=df2, x=\"Marital_Separated\", y=\"Hyperlipidemia_Yes\", errorbar=None);\n"
   ]
  },
  {
   "cell_type": "code",
   "execution_count": null,
   "metadata": {},
   "outputs": [],
   "source": [
    "sns.barplot(data=df2, x=\"Marital_Widowed\", y=\"Hyperlipidemia_Yes\", errorbar=None);\n"
   ]
  },
  {
   "cell_type": "code",
   "execution_count": null,
   "metadata": {},
   "outputs": [],
   "source": [
    "sns.barplot(data=df2, x=\"Gender_Male\", y=\"Hyperlipidemia_Yes\", errorbar=None);"
   ]
  },
  {
   "cell_type": "code",
   "execution_count": null,
   "metadata": {},
   "outputs": [],
   "source": [
    "from sklearn.model_selection import train_test_split\n",
    "from sklearn.preprocessing import StandardScaler\n",
    "from sklearn.linear_model import LogisticRegression\n",
    "from sklearn.metrics import classification_report, confusion_matrix\n",
    "\n",
    "# Creating X and Y vairbales for the logistic regression\n",
    "X_data_log = df2.drop('Hyperlipidemia_Yes', axis=1)\n",
    "Y_data_log = df2['Hyperlipidemia_Yes']\n",
    "\n",
    "# Using SKlearn to split th data to test and train\n",
    "X_log_train, X_log_test, Y_log_train, Y_log_test = train_test_split(X_data_log, Y_data_log, test_size=0.3, random_state=100)\n",
    "\n",
    "# Scaling data\n",
    "scaler = StandardScaler()\n",
    "X_log_train_scaled = scaler.fit_transform(X_log_train)\n",
    "X_log_test_scaled = scaler.transform(X_log_test)\n",
    "\n",
    "#Running Logistic Regression\n",
    "log_reg = LogisticRegression(random_state=0, fit_intercept=True, solver=\"liblinear\", C=1.0).fit(X_log_train_scaled, Y_log_train)"
   ]
  },
  {
   "cell_type": "code",
   "execution_count": null,
   "metadata": {},
   "outputs": [],
   "source": [
    "log_reg.classes_\n",
    "log_reg.intercept_\n",
    "log_reg.coef_"
   ]
  },
  {
   "cell_type": "code",
   "execution_count": null,
   "metadata": {},
   "outputs": [],
   "source": [
    "# Scoring Model using training data\n",
    "log_reg.score(X_log_train_scaled, Y_log_train)"
   ]
  },
  {
   "cell_type": "code",
   "execution_count": null,
   "metadata": {},
   "outputs": [],
   "source": [
    "# Scoring Model using test data\n",
    "log_reg.score(X_log_test_scaled, Y_log_test)"
   ]
  },
  {
   "cell_type": "code",
   "execution_count": null,
   "metadata": {},
   "outputs": [],
   "source": [
    "from sklearn.metrics import confusion_matrix\n",
    "cf_matrix = confusion_matrix(Y_log_test, log_reg.predict(X_log_test))\n",
    "sns.heatmap(cf_matrix/np.sum(cf_matrix), annot=True, fmt='.2%', cmap='Blues');"
   ]
  },
  {
   "cell_type": "markdown",
   "metadata": {},
   "source": [
    "# ▶ Reduced Logistic Regression Model "
   ]
  },
  {
   "cell_type": "code",
   "execution_count": null,
   "metadata": {},
   "outputs": [],
   "source": [
    "# Creating X and Y variables for the logistic regression\n",
    "X_data2_log = df2[['Complication_risk', 'Initial_days', 'Initial_admin_Emergency Admission']]\n",
    "Y_data2_log = df2['Hyperlipidemia_Yes']\n",
    "\n",
    "# Using SKlearn to split th data to test and train\n",
    "X2_log_train, X2_log_test, Y2_log_train, Y2_log_test = train_test_split(X_data2_log, Y_data2_log, test_size=0.3, random_state=100)\n",
    "\n",
    "# Scaling data\n",
    "scaler2 = StandardScaler()\n",
    "X2_log_train_scaled = scaler.fit_transform(X2_log_train)\n",
    "X2_log_test_scaled = scaler.transform(X2_log_test)\n",
    "\n",
    "# Running Model\n",
    "log_reg_reduced = LogisticRegression(random_state=0, fit_intercept=True, class_weight = None).fit(X2_log_train_scaled, Y2_log_train)"
   ]
  },
  {
   "cell_type": "code",
   "execution_count": null,
   "metadata": {},
   "outputs": [],
   "source": [
    "log_reg_reduced.classes_\n",
    "log_reg_reduced.intercept_\n",
    "log_reg_reduced.coef_"
   ]
  },
  {
   "cell_type": "code",
   "execution_count": null,
   "metadata": {},
   "outputs": [],
   "source": [
    "# Scoring Model using training data\n",
    "log_reg_reduced.score(X2_log_train_scaled, Y2_log_train)"
   ]
  },
  {
   "cell_type": "code",
   "execution_count": null,
   "metadata": {},
   "outputs": [],
   "source": [
    "# Scoring Model using testing data\n",
    "log_reg_reduced.score(X2_log_test_scaled, Y2_log_test)"
   ]
  },
  {
   "cell_type": "code",
   "execution_count": null,
   "metadata": {},
   "outputs": [],
   "source": [
    "cf_matrix = confusion_matrix(Y2_log_test, log_reg_reduced.predict(X2_log_test))\n",
    "sns.heatmap(cf_matrix/np.sum(cf_matrix), annot=True, fmt='.2%', cmap='Blues');"
   ]
  },
  {
   "cell_type": "markdown",
   "metadata": {},
   "source": [
    "Reduced Logistic Model Equation:\n",
    "\n",
    "ln(y/(1-y)) = -0.66695895 + 0.02214502(Complication Risk) - 0.03500518(Initial_Days) + 0.00724142(Initial_admin_Emergency Admission)"
   ]
  }
 ],
 "metadata": {
  "kernelspec": {
   "display_name": "base",
   "language": "python",
   "name": "python3"
  },
  "language_info": {
   "codemirror_mode": {
    "name": "ipython",
    "version": 3
   },
   "file_extension": ".py",
   "mimetype": "text/x-python",
   "name": "python",
   "nbconvert_exporter": "python",
   "pygments_lexer": "ipython3",
   "version": "3.10.13"
  },
  "orig_nbformat": 4
 },
 "nbformat": 4,
 "nbformat_minor": 2
}

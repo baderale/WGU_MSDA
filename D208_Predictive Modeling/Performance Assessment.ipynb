{
 "cells": [
  {
   "attachments": {},
   "cell_type": "markdown",
   "metadata": {},
   "source": [
    "<h1><center>Performance Assessment Task 1 - Linear Regression Modeling</center></h1>\n",
    "<h3><center> by Bader Ale <center><h3>"
   ]
  }
 ],
 "metadata": {
  "language_info": {
   "name": "python"
  },
  "orig_nbformat": 4
 },
 "nbformat": 4,
 "nbformat_minor": 2
}
